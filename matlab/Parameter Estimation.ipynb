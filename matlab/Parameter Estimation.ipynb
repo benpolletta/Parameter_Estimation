{
 "cells": [
  {
   "cell_type": "markdown",
   "metadata": {
    "nbpresent": {
     "id": "c1448240-a0de-4088-bffc-9ec91da06726"
    },
    "slideshow": {
     "slide_type": "slide"
    }
   },
   "source": [
    "# Parameter Estimation"
   ]
  },
  {
   "cell_type": "code",
   "execution_count": 281,
   "metadata": {
    "collapsed": true,
    "nbpresent": {
     "id": "dad675f5-37c2-4876-844d-0d131714fba2"
    },
    "slideshow": {
     "slide_type": "notes"
    }
   },
   "outputs": [],
   "source": [
    "import numpy as np\n",
    "import matplotlib.pyplot as plt\n",
    "%matplotlib notebook"
   ]
  },
  {
   "cell_type": "code",
   "execution_count": 275,
   "metadata": {
    "collapsed": false,
    "nbpresent": {
     "id": "dc7354dc-c932-4f6f-a7ec-f97abf6bb1f4"
    },
    "slideshow": {
     "slide_type": "notes"
    }
   },
   "outputs": [],
   "source": [
    "def HH_dynamics(state):\n",
    "\n",
    "    import numpy as np\n",
    "\n",
    "    V, n, h, B, gB, EB, VBth, SB, tauB, Icur = state\n",
    "\n",
    "    F = np.zeros_like(state)\n",
    "\n",
    "    # Set parameters\n",
    "    mInf = 1 / (1 + np.exp((-V - 34.5) / 10))  # HH options\n",
    "    nInf = 1 / (1 + np.exp((-V - 29.5) / 10))\n",
    "    hInf = 1 / (1 + np.exp((V + 59.4) / 10.7))\n",
    "    tauN = 0.25 + 4.35 * np.exp(-abs(V + 10) / 10)\n",
    "    tauH = 0.15 + 1.15 / (1 + np.exp((V + 33.5) / 15))\n",
    "    BInf = 1. / (1 + np.exp(-(V - VBth) / SB))\n",
    "    tauB = tauB\n",
    "    C = 0.9\n",
    "    EK = -95\n",
    "    ENa = 50\n",
    "    EL = -70\n",
    "    gNa = 100\n",
    "    gK = 7\n",
    "    gL = 0.25\n",
    "\n",
    "    # Calculate changes\n",
    "    Vdot = (Icur -  # drive current\n",
    "            gK * n**4 * (V - EK) -  # Potassium\n",
    "            gNa * mInf ** 3 * h * (V - ENa) -  # Sodium\n",
    "            gB * B * (V - EB) -  # mystery\n",
    "            gL * (V - EL)) / C  # Leak\n",
    "\n",
    "    ndot = (nInf - n) / tauN  # F2(n)\n",
    "\n",
    "    hdot = (hInf - h) / tauH  # F3(h)\n",
    "\n",
    "    Bdot = (BInf - B) / tauB  # F4(B)\n",
    "\n",
    "    F[:4] = [Vdot, ndot, hdot, Bdot]  # state change\n",
    "    \n",
    "    return F\n"
   ]
  },
  {
   "cell_type": "markdown",
   "metadata": {
    "nbpresent": {
     "id": "1c6168fa-79fd-47d5-83ca-54f403325834"
    },
    "slideshow": {
     "slide_type": "slide"
    }
   },
   "source": [
    "## Running a simulation"
   ]
  },
  {
   "cell_type": "code",
   "execution_count": 276,
   "metadata": {
    "collapsed": true,
    "nbpresent": {
     "id": "f7a9f97c-a704-428e-8bb9-beff9200da8e"
    },
    "slideshow": {
     "slide_type": "subslide"
    }
   },
   "outputs": [],
   "source": [
    "noiseStd = [1, 0, 0, 0]  # Measurment noise\n",
    "delta = 0.01  # integration step [ms]\n",
    "Vth = 30  # count spikes when voltage goes above Vth"
   ]
  },
  {
   "cell_type": "code",
   "execution_count": 277,
   "metadata": {
    "collapsed": true,
    "nbpresent": {
     "id": "673a331d-e3dd-49e6-bb8d-884b70c759ad"
    }
   },
   "outputs": [],
   "source": [
    "V = -70\n",
    "n = 0.0147\n",
    "h = 0.7497\n",
    "B = 0.0326\n",
    "\n",
    "gB = 3.5\n",
    "EB = -74.8\n",
    "VBth = -2.2\n",
    "SB = 9.6\n",
    "tauB = 64\n",
    "I = -2.5\n",
    "\n",
    "s0 = [V, n, h, B]\n",
    "params = [gB, EB, VBth, SB, tauB, I]"
   ]
  },
  {
   "cell_type": "code",
   "execution_count": 278,
   "metadata": {
    "collapsed": false,
    "nbpresent": {
     "id": "e2ab2a29-0e3f-4b90-b98e-93e5b8b0b569"
    },
    "slideshow": {
     "slide_type": "slide"
    }
   },
   "outputs": [],
   "source": [
    "# Run Sim\n",
    "NUM_ALL = len(s0 + params)\n",
    "TOTAL_TIME = int(1e3 / delta)  # time steps to simulate (ms * fs)\n",
    "TOTAL_TIME = 5\n",
    "states = np.array(s0 + params)  # initial states"
   ]
  },
  {
   "cell_type": "code",
   "execution_count": 279,
   "metadata": {
    "collapsed": false,
    "nbpresent": {
     "id": "52bbef7b-dde7-4322-9a9f-6272ca28c129"
    }
   },
   "outputs": [],
   "source": [
    "sim = np.zeros((TOTAL_TIME, NUM_ALL))  # to hold simulation results\n",
    "while len(noiseStd) < states.shape[0]:\n",
    "    noiseStd += [0]\n",
    "noiseStd = np.array(noiseStd)"
   ]
  },
  {
   "cell_type": "code",
   "execution_count": 280,
   "metadata": {
    "collapsed": false,
    "nbpresent": {
     "id": "c19114dc-a20e-457a-aa0f-1746507d923f"
    }
   },
   "outputs": [],
   "source": [
    "for t in range(TOTAL_TIME):\n",
    "    dS = HH_dynamics(states)  # dynamics\n",
    "    # updated states\n",
    "    states += dS * delta + noiseStd * np.random.randn(np.size(states))\n",
    "    temp = states[1:4,]\n",
    "    temp[states[1:4,] > 1] = 1\n",
    "    temp[states[1:4,] < 0] = 0\n",
    "    sim[t] = states[:]"
   ]
  },
  {
   "cell_type": "markdown",
   "metadata": {},
   "source": [
    "## Plotting the simulation"
   ]
  },
  {
   "cell_type": "code",
   "execution_count": 282,
   "metadata": {
    "collapsed": false,
    "nbpresent": {
     "id": "af37e692-ed61-480e-ad06-c55815e3fbcb"
    }
   },
   "outputs": [
    {
     "ename": "SyntaxError",
     "evalue": "invalid syntax (<ipython-input-282-412c48e0efd6>, line 2)",
     "output_type": "error",
     "traceback": [
      "\u001b[0;36m  File \u001b[0;32m\"<ipython-input-282-412c48e0efd6>\"\u001b[0;36m, line \u001b[0;32m2\u001b[0m\n\u001b[0;31m    plt.subplot(8, 1, 2:7);\u001b[0m\n\u001b[0m                       ^\u001b[0m\n\u001b[0;31mSyntaxError\u001b[0m\u001b[0;31m:\u001b[0m invalid syntax\n"
     ]
    }
   ],
   "source": [
    "# Plot Results\n",
    "plt.subplot(8, 1, 2:7);\n",
    "tt = [i * delta for i in range(TOTAL_TIME)]\n",
    "plt.plot(tt, sim[,1])\n",
    "plt.ylabel('Voltage [mV]')\n",
    "plt.xlabel('Time [ms]')\n",
    "\n",
    "plt.plot([0 TOTAL_TIME] * delta, Vth * [1 1], '--', 'color', .5 * [1 1 1])\n",
    "\n",
    "# spikes = [false logical((sim(1, 1:end - 1) < Vth) .* sim(1, 2:end) > Vth)];\n",
    "# hold on\n",
    "# plot(tt(spikes), sim(1, spikes), 'r*')\n",
    "# hold off\n",
    "\n",
    "# subplot(8, 1, 1)\n",
    "# spiketimes = find(spikes)\n",
    "# plot([spiketimes(:) spiketimes(:)]' * delta, [zeros(size(spiketimes(:))) ones(size(spiketimes(:)))]', 'color', lines(1))\n",
    "# yticks([])\n",
    "# xticks([])"
   ]
  },
  {
   "cell_type": "code",
   "execution_count": null,
   "metadata": {
    "collapsed": true
   },
   "outputs": [],
   "source": []
  }
 ],
 "metadata": {
  "kernelspec": {
   "display_name": "Python [default]",
   "language": "python",
   "name": "python3"
  },
  "language_info": {
   "codemirror_mode": {
    "name": "ipython",
    "version": 3
   },
   "file_extension": ".py",
   "mimetype": "text/x-python",
   "name": "python",
   "nbconvert_exporter": "python",
   "pygments_lexer": "ipython3",
   "version": "3.5.4"
  },
  "nbpresent": {
   "slides": {
    "0ff99aa5-9389-46f7-873b-7bb90809929a": {
     "id": "0ff99aa5-9389-46f7-873b-7bb90809929a",
     "prev": "3a3bb44f-671e-4c71-b8dc-02a84ea3502d",
     "regions": {
      "21085583-23a2-43cb-a1a1-78a2b1a84203": {
       "attrs": {
        "height": 0.4,
        "width": 0.8,
        "x": 0.1,
        "y": 0.5
       },
       "content": {
        "cell": "9028ff46-1319-4ec7-98ab-57ee7f60e61c",
        "part": "whole"
       },
       "id": "21085583-23a2-43cb-a1a1-78a2b1a84203"
      },
      "312d08b3-91aa-4b97-8bf9-dad66a008cb3": {
       "attrs": {
        "height": 0.4,
        "width": 0.8,
        "x": 0.1,
        "y": 0.5
       },
       "content": {
        "cell": "52bbef7b-dde7-4322-9a9f-6272ca28c129",
        "part": "whole"
       },
       "id": "312d08b3-91aa-4b97-8bf9-dad66a008cb3"
      },
      "4672aeeb-88b7-4a5d-b506-bee21a80bcbd": {
       "attrs": {
        "height": 0.4,
        "width": 0.8,
        "x": 0.1,
        "y": 0.5
       },
       "content": {
        "cell": "c19114dc-a20e-457a-aa0f-1746507d923f",
        "part": "whole"
       },
       "id": "4672aeeb-88b7-4a5d-b506-bee21a80bcbd"
      },
      "4c28b70f-e600-493a-bdd3-c4a555bcfa01": {
       "attrs": {
        "height": 0.4,
        "width": 0.8,
        "x": 0.1,
        "y": 0.5
       },
       "content": {
        "cell": "af37e692-ed61-480e-ad06-c55815e3fbcb",
        "part": "whole"
       },
       "id": "4c28b70f-e600-493a-bdd3-c4a555bcfa01"
      },
      "562c743a-8614-4617-80c8-e2cd0ba07d32": {
       "attrs": {
        "height": 0.8,
        "width": 0.8,
        "x": 0.1,
        "y": 0.1
       },
       "content": {
        "cell": "e2ab2a29-0e3f-4b90-b98e-93e5b8b0b569",
        "part": "whole"
       },
       "id": "562c743a-8614-4617-80c8-e2cd0ba07d32"
      }
     }
    },
    "3a3bb44f-671e-4c71-b8dc-02a84ea3502d": {
     "id": "3a3bb44f-671e-4c71-b8dc-02a84ea3502d",
     "prev": "51588e04-6155-477e-92da-98ae40b50cd0",
     "regions": {
      "52b403a7-b180-4f4c-95b1-28ae085e61e3": {
       "attrs": {
        "height": 0.4,
        "width": 0.8,
        "x": 0.1,
        "y": 0.5
       },
       "content": null,
       "id": "52b403a7-b180-4f4c-95b1-28ae085e61e3"
      },
      "ad7a9ae7-e5f0-4059-b270-15f1f6ffa168": {
       "attrs": {
        "height": 0.8,
        "width": 0.8,
        "x": 0.1,
        "y": 0.1
       },
       "content": null,
       "id": "ad7a9ae7-e5f0-4059-b270-15f1f6ffa168"
      },
      "c81bcc24-944c-421a-b54c-60b37e9ed408": {
       "attrs": {
        "height": 0.4,
        "width": 0.8,
        "x": 0.1,
        "y": 0.5
       },
       "content": null,
       "id": "c81bcc24-944c-421a-b54c-60b37e9ed408"
      }
     }
    },
    "51588e04-6155-477e-92da-98ae40b50cd0": {
     "id": "51588e04-6155-477e-92da-98ae40b50cd0",
     "prev": "fe3dec08-667c-49eb-bd83-d0665daf27ec",
     "regions": {
      "44ac2350-dfda-44c1-814b-d982ccb6c195": {
       "attrs": {
        "height": 0.8,
        "width": 0.8,
        "x": 0.1,
        "y": 0.1
       },
       "content": {
        "cell": "1c6168fa-79fd-47d5-83ca-54f403325834",
        "part": "whole"
       },
       "id": "44ac2350-dfda-44c1-814b-d982ccb6c195"
      },
      "7f5d6f75-129b-4226-94cd-992b5f1ecdda": {
       "attrs": {
        "height": 0.4,
        "width": 0.8,
        "x": 0.1,
        "y": 0.5
       },
       "content": {
        "cell": "673a331d-e3dd-49e6-bb8d-884b70c759ad",
        "part": "whole"
       },
       "id": "7f5d6f75-129b-4226-94cd-992b5f1ecdda"
      },
      "b46c9bce-fa97-4334-b534-59451e847562": {
       "attrs": {
        "height": 0.4,
        "width": 0.8,
        "x": 0.1,
        "y": 0.5
       },
       "content": {
        "cell": "f7a9f97c-a704-428e-8bb9-beff9200da8e",
        "part": "whole"
       },
       "id": "b46c9bce-fa97-4334-b534-59451e847562"
      }
     }
    },
    "fe3dec08-667c-49eb-bd83-d0665daf27ec": {
     "id": "fe3dec08-667c-49eb-bd83-d0665daf27ec",
     "layout": "treemap",
     "prev": null,
     "regions": {
      "2e6c0aa0-8472-4b77-bcac-73793d208e70": {
       "attrs": {
        "height": 1,
        "pad": 0.01,
        "treemap:weight": 1,
        "width": 1,
        "x": 0,
        "y": 0
       },
       "content": {
        "cell": "c1448240-a0de-4088-bffc-9ec91da06726",
        "part": "whole"
       },
       "id": "2e6c0aa0-8472-4b77-bcac-73793d208e70"
      }
     }
    }
   },
   "themes": {
    "default": "db7b69f7-10d6-424d-a66b-57e2d6610701",
    "theme": {
     "db7b69f7-10d6-424d-a66b-57e2d6610701": {
      "id": "db7b69f7-10d6-424d-a66b-57e2d6610701",
      "palette": {
       "19cc588f-0593-49c9-9f4b-e4d7cc113b1c": {
        "id": "19cc588f-0593-49c9-9f4b-e4d7cc113b1c",
        "rgb": [
         252,
         252,
         252
        ]
       },
       "31af15d2-7e15-44c5-ab5e-e04b16a89eff": {
        "id": "31af15d2-7e15-44c5-ab5e-e04b16a89eff",
        "rgb": [
         68,
         68,
         68
        ]
       },
       "50f92c45-a630-455b-aec3-788680ec7410": {
        "id": "50f92c45-a630-455b-aec3-788680ec7410",
        "rgb": [
         155,
         177,
         192
        ]
       },
       "c5cc3653-2ee1-402a-aba2-7caae1da4f6c": {
        "id": "c5cc3653-2ee1-402a-aba2-7caae1da4f6c",
        "rgb": [
         43,
         126,
         184
        ]
       },
       "efa7f048-9acb-414c-8b04-a26811511a21": {
        "id": "efa7f048-9acb-414c-8b04-a26811511a21",
        "rgb": [
         25.118061674008803,
         73.60176211453744,
         107.4819383259912
        ]
       }
      },
      "rules": {
       "blockquote": {
        "color": "50f92c45-a630-455b-aec3-788680ec7410"
       },
       "code": {
        "font-family": "Anonymous Pro"
       },
       "h1": {
        "color": "c5cc3653-2ee1-402a-aba2-7caae1da4f6c",
        "font-family": "Lato",
        "font-size": 8
       },
       "h2": {
        "color": "c5cc3653-2ee1-402a-aba2-7caae1da4f6c",
        "font-family": "Lato",
        "font-size": 6
       },
       "h3": {
        "color": "50f92c45-a630-455b-aec3-788680ec7410",
        "font-family": "Lato",
        "font-size": 5.5
       },
       "h4": {
        "color": "c5cc3653-2ee1-402a-aba2-7caae1da4f6c",
        "font-family": "Lato",
        "font-size": 5
       },
       "h5": {
        "font-family": "Lato"
       },
       "h6": {
        "font-family": "Lato"
       },
       "h7": {
        "font-family": "Lato"
       },
       "pre": {
        "font-family": "Anonymous Pro",
        "font-size": 4
       }
      },
      "text-base": {
       "font-family": "Merriweather",
       "font-size": 4
      }
     },
     "fe69d426-1215-4400-b39e-2823b997b564": {
      "id": "fe69d426-1215-4400-b39e-2823b997b564",
      "palette": {
       "19cc588f-0593-49c9-9f4b-e4d7cc113b1c": {
        "id": "19cc588f-0593-49c9-9f4b-e4d7cc113b1c",
        "rgb": [
         252,
         252,
         252
        ]
       },
       "31af15d2-7e15-44c5-ab5e-e04b16a89eff": {
        "id": "31af15d2-7e15-44c5-ab5e-e04b16a89eff",
        "rgb": [
         68,
         68,
         68
        ]
       },
       "50f92c45-a630-455b-aec3-788680ec7410": {
        "id": "50f92c45-a630-455b-aec3-788680ec7410",
        "rgb": [
         155,
         177,
         192
        ]
       },
       "c5cc3653-2ee1-402a-aba2-7caae1da4f6c": {
        "id": "c5cc3653-2ee1-402a-aba2-7caae1da4f6c",
        "rgb": [
         43,
         126,
         184
        ]
       },
       "efa7f048-9acb-414c-8b04-a26811511a21": {
        "id": "efa7f048-9acb-414c-8b04-a26811511a21",
        "rgb": [
         25.118061674008803,
         73.60176211453744,
         107.4819383259912
        ]
       }
      },
      "rules": {
       "blockquote": {
        "color": "50f92c45-a630-455b-aec3-788680ec7410"
       },
       "code": {
        "font-family": "Anonymous Pro"
       },
       "h1": {
        "color": "c5cc3653-2ee1-402a-aba2-7caae1da4f6c",
        "font-family": "Lato",
        "font-size": 8
       },
       "h2": {
        "color": "c5cc3653-2ee1-402a-aba2-7caae1da4f6c",
        "font-family": "Lato",
        "font-size": 6
       },
       "h3": {
        "color": "50f92c45-a630-455b-aec3-788680ec7410",
        "font-family": "Lato",
        "font-size": 5.5
       },
       "h4": {
        "color": "c5cc3653-2ee1-402a-aba2-7caae1da4f6c",
        "font-family": "Lato",
        "font-size": 5
       },
       "h5": {
        "font-family": "Lato"
       },
       "h6": {
        "font-family": "Lato"
       },
       "h7": {
        "font-family": "Lato"
       },
       "pre": {
        "font-family": "Anonymous Pro",
        "font-size": 4
       }
      },
      "text-base": {
       "font-family": "Merriweather",
       "font-size": 4
      }
     }
    }
   }
  }
 },
 "nbformat": 4,
 "nbformat_minor": 2
}

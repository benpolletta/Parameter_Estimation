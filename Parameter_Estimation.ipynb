{
 "cells": [
  {
   "cell_type": "markdown",
   "metadata": {
    "nbpresent": {
     "id": "c1448240-a0de-4088-bffc-9ec91da06726"
    },
    "slideshow": {
     "slide_type": "slide"
    }
   },
   "source": [
    "# Parameter Estimation"
   ]
  },
  {
   "cell_type": "markdown",
   "metadata": {},
   "source": [
    "## Model dynamics"
   ]
  },
  {
   "cell_type": "code",
   "execution_count": 109,
   "metadata": {
    "nbpresent": {
     "id": "dad675f5-37c2-4876-844d-0d131714fba2"
    },
    "slideshow": {
     "slide_type": "notes"
    }
   },
   "outputs": [],
   "source": [
    "import numpy as np\n",
    "import matplotlib.pyplot as plt\n",
    "%matplotlib notebook"
   ]
  },
  {
   "cell_type": "code",
   "execution_count": 110,
   "metadata": {
    "nbpresent": {
     "id": "dc7354dc-c932-4f6f-a7ec-f97abf6bb1f4"
    },
    "slideshow": {
     "slide_type": "notes"
    }
   },
   "outputs": [],
   "source": [
    "def HH_dynamics(state):\n",
    "    \"\"\"\n",
    "    The variable 'state' is the current state of the system\n",
    "    \"\"\"\n",
    "\n",
    "    import numpy as np\n",
    "\n",
    "    V, n, h, B, gB, EB, VBth, SB, tauB, Icur = state\n",
    "\n",
    "    F = np.zeros_like(state)\n",
    "\n",
    "    # Set parameters\n",
    "    mInf = 1 / (1 + np.exp((-V - 34.5) / 10))  # HH options\n",
    "    nInf = 1 / (1 + np.exp((-V - 29.5) / 10))\n",
    "    hInf = 1 / (1 + np.exp((V + 59.4) / 10.7))\n",
    "    tauN = 0.25 + 4.35 * np.exp(-abs(V + 10) / 10)\n",
    "    tauH = 0.15 + 1.15 / (1 + np.exp((V + 33.5) / 15))\n",
    "    BInf = 1. / (1 + np.exp(-(V - VBth) / SB))\n",
    "#     tauB = tauB\n",
    "    C = 0.9\n",
    "    EK = -95\n",
    "    ENa = 50\n",
    "    EL = -70\n",
    "    gNa = 100\n",
    "    gK = 7\n",
    "    gL = 0.25\n",
    "\n",
    "    # Calculate changes\n",
    "    Vdot = (Icur -  # drive current\n",
    "            gK * n**4 * (V - EK) -  # Potassium\n",
    "            gNa * mInf ** 3 * h * (V - ENa) -  # Sodium\n",
    "            gB * B * (V - EB) -  # mystery\n",
    "            gL * (V - EL)) / C  # Leak\n",
    "\n",
    "    ndot = (nInf - n) / tauN  # F2(n)\n",
    "\n",
    "    hdot = (hInf - h) / tauH  # F3(h)\n",
    "\n",
    "    Bdot = (BInf - B) / tauB  # F4(B)\n",
    "\n",
    "    F[:4] = [Vdot, ndot, hdot, Bdot]  # state change\n",
    "    \n",
    "    return F\n"
   ]
  },
  {
   "cell_type": "markdown",
   "metadata": {
    "nbpresent": {
     "id": "1c6168fa-79fd-47d5-83ca-54f403325834"
    },
    "slideshow": {
     "slide_type": "slide"
    }
   },
   "source": [
    "## Running a simulation"
   ]
  },
  {
   "cell_type": "code",
   "execution_count": 111,
   "metadata": {
    "nbpresent": {
     "id": "f7a9f97c-a704-428e-8bb9-beff9200da8e"
    },
    "slideshow": {
     "slide_type": "subslide"
    }
   },
   "outputs": [],
   "source": [
    "noiseStd = [1, 0, 0, 0]  # Measurment noise\n",
    "delta = 0.01  # integration step [ms]\n",
    "Vth = 30  # count spikes when voltage goes above Vth"
   ]
  },
  {
   "cell_type": "code",
   "execution_count": 112,
   "metadata": {
    "nbpresent": {
     "id": "673a331d-e3dd-49e6-bb8d-884b70c759ad"
    }
   },
   "outputs": [],
   "source": [
    "V = -70\n",
    "n = 0.0147\n",
    "h = 0.7497\n",
    "B = 0.0326\n",
    "\n",
    "gB = 3.5\n",
    "EB = -74.8\n",
    "VBth = -2.2\n",
    "SB = 9.6\n",
    "tauB = 64\n",
    "I = -2.5\n",
    "\n",
    "s0 = [V, n, h, B]\n",
    "params = [gB, EB, VBth, SB, tauB, I]"
   ]
  },
  {
   "cell_type": "code",
   "execution_count": 113,
   "metadata": {
    "nbpresent": {
     "id": "e2ab2a29-0e3f-4b90-b98e-93e5b8b0b569"
    },
    "slideshow": {
     "slide_type": "slide"
    }
   },
   "outputs": [],
   "source": [
    "# Run Sim\n",
    "NUM_ALL = len(s0 + params)\n",
    "TOTAL_TIME = int(1e3 / delta)  # time steps to simulate (ms * fs)\n",
    "# TOTAL_TIME = 5\n",
    "states = np.array(s0 + params)  # initial states"
   ]
  },
  {
   "cell_type": "code",
   "execution_count": 114,
   "metadata": {
    "nbpresent": {
     "id": "52bbef7b-dde7-4322-9a9f-6272ca28c129"
    }
   },
   "outputs": [],
   "source": [
    "sim = np.zeros((TOTAL_TIME, NUM_ALL))  # to hold simulation results\n",
    "while len(noiseStd) < states.shape[0]:\n",
    "    noiseStd += [0]\n",
    "noiseStd = np.array(noiseStd)"
   ]
  },
  {
   "cell_type": "code",
   "execution_count": 115,
   "metadata": {
    "nbpresent": {
     "id": "c19114dc-a20e-457a-aa0f-1746507d923f"
    }
   },
   "outputs": [],
   "source": [
    "for t in range(TOTAL_TIME):\n",
    "    dS = HH_dynamics(states)  # dynamics\n",
    "    # updated states\n",
    "    states += dS * delta + noiseStd * np.random.randn(np.size(states))\n",
    "    temp = states[1:4,]\n",
    "    temp[states[1:4,] > 1] = 1\n",
    "    temp[states[1:4,] < 0] = 0\n",
    "    sim[t] = states[:]"
   ]
  },
  {
   "cell_type": "markdown",
   "metadata": {},
   "source": [
    "## Plotting the simulation"
   ]
  },
  {
   "cell_type": "code",
   "execution_count": 116,
   "metadata": {
    "nbpresent": {
     "id": "af37e692-ed61-480e-ad06-c55815e3fbcb"
    }
   },
   "outputs": [
    {
     "data": {
      "application/javascript": [
       "/* Put everything inside the global mpl namespace */\n",
       "window.mpl = {};\n",
       "\n",
       "\n",
       "mpl.get_websocket_type = function() {\n",
       "    if (typeof(WebSocket) !== 'undefined') {\n",
       "        return WebSocket;\n",
       "    } else if (typeof(MozWebSocket) !== 'undefined') {\n",
       "        return MozWebSocket;\n",
       "    } else {\n",
       "        alert('Your browser does not have WebSocket support.' +\n",
       "              'Please try Chrome, Safari or Firefox ≥ 6. ' +\n",
       "              'Firefox 4 and 5 are also supported but you ' +\n",
       "              'have to enable WebSockets in about:config.');\n",
       "    };\n",
       "}\n",
       "\n",
       "mpl.figure = function(figure_id, websocket, ondownload, parent_element) {\n",
       "    this.id = figure_id;\n",
       "\n",
       "    this.ws = websocket;\n",
       "\n",
       "    this.supports_binary = (this.ws.binaryType != undefined);\n",
       "\n",
       "    if (!this.supports_binary) {\n",
       "        var warnings = document.getElementById(\"mpl-warnings\");\n",
       "        if (warnings) {\n",
       "            warnings.style.display = 'block';\n",
       "            warnings.textContent = (\n",
       "                \"This browser does not support binary websocket messages. \" +\n",
       "                    \"Performance may be slow.\");\n",
       "        }\n",
       "    }\n",
       "\n",
       "    this.imageObj = new Image();\n",
       "\n",
       "    this.context = undefined;\n",
       "    this.message = undefined;\n",
       "    this.canvas = undefined;\n",
       "    this.rubberband_canvas = undefined;\n",
       "    this.rubberband_context = undefined;\n",
       "    this.format_dropdown = undefined;\n",
       "\n",
       "    this.image_mode = 'full';\n",
       "\n",
       "    this.root = $('<div/>');\n",
       "    this._root_extra_style(this.root)\n",
       "    this.root.attr('style', 'display: inline-block');\n",
       "\n",
       "    $(parent_element).append(this.root);\n",
       "\n",
       "    this._init_header(this);\n",
       "    this._init_canvas(this);\n",
       "    this._init_toolbar(this);\n",
       "\n",
       "    var fig = this;\n",
       "\n",
       "    this.waiting = false;\n",
       "\n",
       "    this.ws.onopen =  function () {\n",
       "            fig.send_message(\"supports_binary\", {value: fig.supports_binary});\n",
       "            fig.send_message(\"send_image_mode\", {});\n",
       "            if (mpl.ratio != 1) {\n",
       "                fig.send_message(\"set_dpi_ratio\", {'dpi_ratio': mpl.ratio});\n",
       "            }\n",
       "            fig.send_message(\"refresh\", {});\n",
       "        }\n",
       "\n",
       "    this.imageObj.onload = function() {\n",
       "            if (fig.image_mode == 'full') {\n",
       "                // Full images could contain transparency (where diff images\n",
       "                // almost always do), so we need to clear the canvas so that\n",
       "                // there is no ghosting.\n",
       "                fig.context.clearRect(0, 0, fig.canvas.width, fig.canvas.height);\n",
       "            }\n",
       "            fig.context.drawImage(fig.imageObj, 0, 0);\n",
       "        };\n",
       "\n",
       "    this.imageObj.onunload = function() {\n",
       "        fig.ws.close();\n",
       "    }\n",
       "\n",
       "    this.ws.onmessage = this._make_on_message_function(this);\n",
       "\n",
       "    this.ondownload = ondownload;\n",
       "}\n",
       "\n",
       "mpl.figure.prototype._init_header = function() {\n",
       "    var titlebar = $(\n",
       "        '<div class=\"ui-dialog-titlebar ui-widget-header ui-corner-all ' +\n",
       "        'ui-helper-clearfix\"/>');\n",
       "    var titletext = $(\n",
       "        '<div class=\"ui-dialog-title\" style=\"width: 100%; ' +\n",
       "        'text-align: center; padding: 3px;\"/>');\n",
       "    titlebar.append(titletext)\n",
       "    this.root.append(titlebar);\n",
       "    this.header = titletext[0];\n",
       "}\n",
       "\n",
       "\n",
       "\n",
       "mpl.figure.prototype._canvas_extra_style = function(canvas_div) {\n",
       "\n",
       "}\n",
       "\n",
       "\n",
       "mpl.figure.prototype._root_extra_style = function(canvas_div) {\n",
       "\n",
       "}\n",
       "\n",
       "mpl.figure.prototype._init_canvas = function() {\n",
       "    var fig = this;\n",
       "\n",
       "    var canvas_div = $('<div/>');\n",
       "\n",
       "    canvas_div.attr('style', 'position: relative; clear: both; outline: 0');\n",
       "\n",
       "    function canvas_keyboard_event(event) {\n",
       "        return fig.key_event(event, event['data']);\n",
       "    }\n",
       "\n",
       "    canvas_div.keydown('key_press', canvas_keyboard_event);\n",
       "    canvas_div.keyup('key_release', canvas_keyboard_event);\n",
       "    this.canvas_div = canvas_div\n",
       "    this._canvas_extra_style(canvas_div)\n",
       "    this.root.append(canvas_div);\n",
       "\n",
       "    var canvas = $('<canvas/>');\n",
       "    canvas.addClass('mpl-canvas');\n",
       "    canvas.attr('style', \"left: 0; top: 0; z-index: 0; outline: 0\")\n",
       "\n",
       "    this.canvas = canvas[0];\n",
       "    this.context = canvas[0].getContext(\"2d\");\n",
       "\n",
       "    var backingStore = this.context.backingStorePixelRatio ||\n",
       "\tthis.context.webkitBackingStorePixelRatio ||\n",
       "\tthis.context.mozBackingStorePixelRatio ||\n",
       "\tthis.context.msBackingStorePixelRatio ||\n",
       "\tthis.context.oBackingStorePixelRatio ||\n",
       "\tthis.context.backingStorePixelRatio || 1;\n",
       "\n",
       "    mpl.ratio = (window.devicePixelRatio || 1) / backingStore;\n",
       "\n",
       "    var rubberband = $('<canvas/>');\n",
       "    rubberband.attr('style', \"position: absolute; left: 0; top: 0; z-index: 1;\")\n",
       "\n",
       "    var pass_mouse_events = true;\n",
       "\n",
       "    canvas_div.resizable({\n",
       "        start: function(event, ui) {\n",
       "            pass_mouse_events = false;\n",
       "        },\n",
       "        resize: function(event, ui) {\n",
       "            fig.request_resize(ui.size.width, ui.size.height);\n",
       "        },\n",
       "        stop: function(event, ui) {\n",
       "            pass_mouse_events = true;\n",
       "            fig.request_resize(ui.size.width, ui.size.height);\n",
       "        },\n",
       "    });\n",
       "\n",
       "    function mouse_event_fn(event) {\n",
       "        if (pass_mouse_events)\n",
       "            return fig.mouse_event(event, event['data']);\n",
       "    }\n",
       "\n",
       "    rubberband.mousedown('button_press', mouse_event_fn);\n",
       "    rubberband.mouseup('button_release', mouse_event_fn);\n",
       "    // Throttle sequential mouse events to 1 every 20ms.\n",
       "    rubberband.mousemove('motion_notify', mouse_event_fn);\n",
       "\n",
       "    rubberband.mouseenter('figure_enter', mouse_event_fn);\n",
       "    rubberband.mouseleave('figure_leave', mouse_event_fn);\n",
       "\n",
       "    canvas_div.on(\"wheel\", function (event) {\n",
       "        event = event.originalEvent;\n",
       "        event['data'] = 'scroll'\n",
       "        if (event.deltaY < 0) {\n",
       "            event.step = 1;\n",
       "        } else {\n",
       "            event.step = -1;\n",
       "        }\n",
       "        mouse_event_fn(event);\n",
       "    });\n",
       "\n",
       "    canvas_div.append(canvas);\n",
       "    canvas_div.append(rubberband);\n",
       "\n",
       "    this.rubberband = rubberband;\n",
       "    this.rubberband_canvas = rubberband[0];\n",
       "    this.rubberband_context = rubberband[0].getContext(\"2d\");\n",
       "    this.rubberband_context.strokeStyle = \"#000000\";\n",
       "\n",
       "    this._resize_canvas = function(width, height) {\n",
       "        // Keep the size of the canvas, canvas container, and rubber band\n",
       "        // canvas in synch.\n",
       "        canvas_div.css('width', width)\n",
       "        canvas_div.css('height', height)\n",
       "\n",
       "        canvas.attr('width', width * mpl.ratio);\n",
       "        canvas.attr('height', height * mpl.ratio);\n",
       "        canvas.attr('style', 'width: ' + width + 'px; height: ' + height + 'px;');\n",
       "\n",
       "        rubberband.attr('width', width);\n",
       "        rubberband.attr('height', height);\n",
       "    }\n",
       "\n",
       "    // Set the figure to an initial 600x600px, this will subsequently be updated\n",
       "    // upon first draw.\n",
       "    this._resize_canvas(600, 600);\n",
       "\n",
       "    // Disable right mouse context menu.\n",
       "    $(this.rubberband_canvas).bind(\"contextmenu\",function(e){\n",
       "        return false;\n",
       "    });\n",
       "\n",
       "    function set_focus () {\n",
       "        canvas.focus();\n",
       "        canvas_div.focus();\n",
       "    }\n",
       "\n",
       "    window.setTimeout(set_focus, 100);\n",
       "}\n",
       "\n",
       "mpl.figure.prototype._init_toolbar = function() {\n",
       "    var fig = this;\n",
       "\n",
       "    var nav_element = $('<div/>')\n",
       "    nav_element.attr('style', 'width: 100%');\n",
       "    this.root.append(nav_element);\n",
       "\n",
       "    // Define a callback function for later on.\n",
       "    function toolbar_event(event) {\n",
       "        return fig.toolbar_button_onclick(event['data']);\n",
       "    }\n",
       "    function toolbar_mouse_event(event) {\n",
       "        return fig.toolbar_button_onmouseover(event['data']);\n",
       "    }\n",
       "\n",
       "    for(var toolbar_ind in mpl.toolbar_items) {\n",
       "        var name = mpl.toolbar_items[toolbar_ind][0];\n",
       "        var tooltip = mpl.toolbar_items[toolbar_ind][1];\n",
       "        var image = mpl.toolbar_items[toolbar_ind][2];\n",
       "        var method_name = mpl.toolbar_items[toolbar_ind][3];\n",
       "\n",
       "        if (!name) {\n",
       "            // put a spacer in here.\n",
       "            continue;\n",
       "        }\n",
       "        var button = $('<button/>');\n",
       "        button.addClass('ui-button ui-widget ui-state-default ui-corner-all ' +\n",
       "                        'ui-button-icon-only');\n",
       "        button.attr('role', 'button');\n",
       "        button.attr('aria-disabled', 'false');\n",
       "        button.click(method_name, toolbar_event);\n",
       "        button.mouseover(tooltip, toolbar_mouse_event);\n",
       "\n",
       "        var icon_img = $('<span/>');\n",
       "        icon_img.addClass('ui-button-icon-primary ui-icon');\n",
       "        icon_img.addClass(image);\n",
       "        icon_img.addClass('ui-corner-all');\n",
       "\n",
       "        var tooltip_span = $('<span/>');\n",
       "        tooltip_span.addClass('ui-button-text');\n",
       "        tooltip_span.html(tooltip);\n",
       "\n",
       "        button.append(icon_img);\n",
       "        button.append(tooltip_span);\n",
       "\n",
       "        nav_element.append(button);\n",
       "    }\n",
       "\n",
       "    var fmt_picker_span = $('<span/>');\n",
       "\n",
       "    var fmt_picker = $('<select/>');\n",
       "    fmt_picker.addClass('mpl-toolbar-option ui-widget ui-widget-content');\n",
       "    fmt_picker_span.append(fmt_picker);\n",
       "    nav_element.append(fmt_picker_span);\n",
       "    this.format_dropdown = fmt_picker[0];\n",
       "\n",
       "    for (var ind in mpl.extensions) {\n",
       "        var fmt = mpl.extensions[ind];\n",
       "        var option = $(\n",
       "            '<option/>', {selected: fmt === mpl.default_extension}).html(fmt);\n",
       "        fmt_picker.append(option)\n",
       "    }\n",
       "\n",
       "    // Add hover states to the ui-buttons\n",
       "    $( \".ui-button\" ).hover(\n",
       "        function() { $(this).addClass(\"ui-state-hover\");},\n",
       "        function() { $(this).removeClass(\"ui-state-hover\");}\n",
       "    );\n",
       "\n",
       "    var status_bar = $('<span class=\"mpl-message\"/>');\n",
       "    nav_element.append(status_bar);\n",
       "    this.message = status_bar[0];\n",
       "}\n",
       "\n",
       "mpl.figure.prototype.request_resize = function(x_pixels, y_pixels) {\n",
       "    // Request matplotlib to resize the figure. Matplotlib will then trigger a resize in the client,\n",
       "    // which will in turn request a refresh of the image.\n",
       "    this.send_message('resize', {'width': x_pixels, 'height': y_pixels});\n",
       "}\n",
       "\n",
       "mpl.figure.prototype.send_message = function(type, properties) {\n",
       "    properties['type'] = type;\n",
       "    properties['figure_id'] = this.id;\n",
       "    this.ws.send(JSON.stringify(properties));\n",
       "}\n",
       "\n",
       "mpl.figure.prototype.send_draw_message = function() {\n",
       "    if (!this.waiting) {\n",
       "        this.waiting = true;\n",
       "        this.ws.send(JSON.stringify({type: \"draw\", figure_id: this.id}));\n",
       "    }\n",
       "}\n",
       "\n",
       "\n",
       "mpl.figure.prototype.handle_save = function(fig, msg) {\n",
       "    var format_dropdown = fig.format_dropdown;\n",
       "    var format = format_dropdown.options[format_dropdown.selectedIndex].value;\n",
       "    fig.ondownload(fig, format);\n",
       "}\n",
       "\n",
       "\n",
       "mpl.figure.prototype.handle_resize = function(fig, msg) {\n",
       "    var size = msg['size'];\n",
       "    if (size[0] != fig.canvas.width || size[1] != fig.canvas.height) {\n",
       "        fig._resize_canvas(size[0], size[1]);\n",
       "        fig.send_message(\"refresh\", {});\n",
       "    };\n",
       "}\n",
       "\n",
       "mpl.figure.prototype.handle_rubberband = function(fig, msg) {\n",
       "    var x0 = msg['x0'] / mpl.ratio;\n",
       "    var y0 = (fig.canvas.height - msg['y0']) / mpl.ratio;\n",
       "    var x1 = msg['x1'] / mpl.ratio;\n",
       "    var y1 = (fig.canvas.height - msg['y1']) / mpl.ratio;\n",
       "    x0 = Math.floor(x0) + 0.5;\n",
       "    y0 = Math.floor(y0) + 0.5;\n",
       "    x1 = Math.floor(x1) + 0.5;\n",
       "    y1 = Math.floor(y1) + 0.5;\n",
       "    var min_x = Math.min(x0, x1);\n",
       "    var min_y = Math.min(y0, y1);\n",
       "    var width = Math.abs(x1 - x0);\n",
       "    var height = Math.abs(y1 - y0);\n",
       "\n",
       "    fig.rubberband_context.clearRect(\n",
       "        0, 0, fig.canvas.width, fig.canvas.height);\n",
       "\n",
       "    fig.rubberband_context.strokeRect(min_x, min_y, width, height);\n",
       "}\n",
       "\n",
       "mpl.figure.prototype.handle_figure_label = function(fig, msg) {\n",
       "    // Updates the figure title.\n",
       "    fig.header.textContent = msg['label'];\n",
       "}\n",
       "\n",
       "mpl.figure.prototype.handle_cursor = function(fig, msg) {\n",
       "    var cursor = msg['cursor'];\n",
       "    switch(cursor)\n",
       "    {\n",
       "    case 0:\n",
       "        cursor = 'pointer';\n",
       "        break;\n",
       "    case 1:\n",
       "        cursor = 'default';\n",
       "        break;\n",
       "    case 2:\n",
       "        cursor = 'crosshair';\n",
       "        break;\n",
       "    case 3:\n",
       "        cursor = 'move';\n",
       "        break;\n",
       "    }\n",
       "    fig.rubberband_canvas.style.cursor = cursor;\n",
       "}\n",
       "\n",
       "mpl.figure.prototype.handle_message = function(fig, msg) {\n",
       "    fig.message.textContent = msg['message'];\n",
       "}\n",
       "\n",
       "mpl.figure.prototype.handle_draw = function(fig, msg) {\n",
       "    // Request the server to send over a new figure.\n",
       "    fig.send_draw_message();\n",
       "}\n",
       "\n",
       "mpl.figure.prototype.handle_image_mode = function(fig, msg) {\n",
       "    fig.image_mode = msg['mode'];\n",
       "}\n",
       "\n",
       "mpl.figure.prototype.updated_canvas_event = function() {\n",
       "    // Called whenever the canvas gets updated.\n",
       "    this.send_message(\"ack\", {});\n",
       "}\n",
       "\n",
       "// A function to construct a web socket function for onmessage handling.\n",
       "// Called in the figure constructor.\n",
       "mpl.figure.prototype._make_on_message_function = function(fig) {\n",
       "    return function socket_on_message(evt) {\n",
       "        if (evt.data instanceof Blob) {\n",
       "            /* FIXME: We get \"Resource interpreted as Image but\n",
       "             * transferred with MIME type text/plain:\" errors on\n",
       "             * Chrome.  But how to set the MIME type?  It doesn't seem\n",
       "             * to be part of the websocket stream */\n",
       "            evt.data.type = \"image/png\";\n",
       "\n",
       "            /* Free the memory for the previous frames */\n",
       "            if (fig.imageObj.src) {\n",
       "                (window.URL || window.webkitURL).revokeObjectURL(\n",
       "                    fig.imageObj.src);\n",
       "            }\n",
       "\n",
       "            fig.imageObj.src = (window.URL || window.webkitURL).createObjectURL(\n",
       "                evt.data);\n",
       "            fig.updated_canvas_event();\n",
       "            fig.waiting = false;\n",
       "            return;\n",
       "        }\n",
       "        else if (typeof evt.data === 'string' && evt.data.slice(0, 21) == \"data:image/png;base64\") {\n",
       "            fig.imageObj.src = evt.data;\n",
       "            fig.updated_canvas_event();\n",
       "            fig.waiting = false;\n",
       "            return;\n",
       "        }\n",
       "\n",
       "        var msg = JSON.parse(evt.data);\n",
       "        var msg_type = msg['type'];\n",
       "\n",
       "        // Call the  \"handle_{type}\" callback, which takes\n",
       "        // the figure and JSON message as its only arguments.\n",
       "        try {\n",
       "            var callback = fig[\"handle_\" + msg_type];\n",
       "        } catch (e) {\n",
       "            console.log(\"No handler for the '\" + msg_type + \"' message type: \", msg);\n",
       "            return;\n",
       "        }\n",
       "\n",
       "        if (callback) {\n",
       "            try {\n",
       "                // console.log(\"Handling '\" + msg_type + \"' message: \", msg);\n",
       "                callback(fig, msg);\n",
       "            } catch (e) {\n",
       "                console.log(\"Exception inside the 'handler_\" + msg_type + \"' callback:\", e, e.stack, msg);\n",
       "            }\n",
       "        }\n",
       "    };\n",
       "}\n",
       "\n",
       "// from http://stackoverflow.com/questions/1114465/getting-mouse-location-in-canvas\n",
       "mpl.findpos = function(e) {\n",
       "    //this section is from http://www.quirksmode.org/js/events_properties.html\n",
       "    var targ;\n",
       "    if (!e)\n",
       "        e = window.event;\n",
       "    if (e.target)\n",
       "        targ = e.target;\n",
       "    else if (e.srcElement)\n",
       "        targ = e.srcElement;\n",
       "    if (targ.nodeType == 3) // defeat Safari bug\n",
       "        targ = targ.parentNode;\n",
       "\n",
       "    // jQuery normalizes the pageX and pageY\n",
       "    // pageX,Y are the mouse positions relative to the document\n",
       "    // offset() returns the position of the element relative to the document\n",
       "    var x = e.pageX - $(targ).offset().left;\n",
       "    var y = e.pageY - $(targ).offset().top;\n",
       "\n",
       "    return {\"x\": x, \"y\": y};\n",
       "};\n",
       "\n",
       "/*\n",
       " * return a copy of an object with only non-object keys\n",
       " * we need this to avoid circular references\n",
       " * http://stackoverflow.com/a/24161582/3208463\n",
       " */\n",
       "function simpleKeys (original) {\n",
       "  return Object.keys(original).reduce(function (obj, key) {\n",
       "    if (typeof original[key] !== 'object')\n",
       "        obj[key] = original[key]\n",
       "    return obj;\n",
       "  }, {});\n",
       "}\n",
       "\n",
       "mpl.figure.prototype.mouse_event = function(event, name) {\n",
       "    var canvas_pos = mpl.findpos(event)\n",
       "\n",
       "    if (name === 'button_press')\n",
       "    {\n",
       "        this.canvas.focus();\n",
       "        this.canvas_div.focus();\n",
       "    }\n",
       "\n",
       "    var x = canvas_pos.x * mpl.ratio;\n",
       "    var y = canvas_pos.y * mpl.ratio;\n",
       "\n",
       "    this.send_message(name, {x: x, y: y, button: event.button,\n",
       "                             step: event.step,\n",
       "                             guiEvent: simpleKeys(event)});\n",
       "\n",
       "    /* This prevents the web browser from automatically changing to\n",
       "     * the text insertion cursor when the button is pressed.  We want\n",
       "     * to control all of the cursor setting manually through the\n",
       "     * 'cursor' event from matplotlib */\n",
       "    event.preventDefault();\n",
       "    return false;\n",
       "}\n",
       "\n",
       "mpl.figure.prototype._key_event_extra = function(event, name) {\n",
       "    // Handle any extra behaviour associated with a key event\n",
       "}\n",
       "\n",
       "mpl.figure.prototype.key_event = function(event, name) {\n",
       "\n",
       "    // Prevent repeat events\n",
       "    if (name == 'key_press')\n",
       "    {\n",
       "        if (event.which === this._key)\n",
       "            return;\n",
       "        else\n",
       "            this._key = event.which;\n",
       "    }\n",
       "    if (name == 'key_release')\n",
       "        this._key = null;\n",
       "\n",
       "    var value = '';\n",
       "    if (event.ctrlKey && event.which != 17)\n",
       "        value += \"ctrl+\";\n",
       "    if (event.altKey && event.which != 18)\n",
       "        value += \"alt+\";\n",
       "    if (event.shiftKey && event.which != 16)\n",
       "        value += \"shift+\";\n",
       "\n",
       "    value += 'k';\n",
       "    value += event.which.toString();\n",
       "\n",
       "    this._key_event_extra(event, name);\n",
       "\n",
       "    this.send_message(name, {key: value,\n",
       "                             guiEvent: simpleKeys(event)});\n",
       "    return false;\n",
       "}\n",
       "\n",
       "mpl.figure.prototype.toolbar_button_onclick = function(name) {\n",
       "    if (name == 'download') {\n",
       "        this.handle_save(this, null);\n",
       "    } else {\n",
       "        this.send_message(\"toolbar_button\", {name: name});\n",
       "    }\n",
       "};\n",
       "\n",
       "mpl.figure.prototype.toolbar_button_onmouseover = function(tooltip) {\n",
       "    this.message.textContent = tooltip;\n",
       "};\n",
       "mpl.toolbar_items = [[\"Home\", \"Reset original view\", \"fa fa-home icon-home\", \"home\"], [\"Back\", \"Back to  previous view\", \"fa fa-arrow-left icon-arrow-left\", \"back\"], [\"Forward\", \"Forward to next view\", \"fa fa-arrow-right icon-arrow-right\", \"forward\"], [\"\", \"\", \"\", \"\"], [\"Pan\", \"Pan axes with left mouse, zoom with right\", \"fa fa-arrows icon-move\", \"pan\"], [\"Zoom\", \"Zoom to rectangle\", \"fa fa-square-o icon-check-empty\", \"zoom\"], [\"\", \"\", \"\", \"\"], [\"Download\", \"Download plot\", \"fa fa-floppy-o icon-save\", \"download\"]];\n",
       "\n",
       "mpl.extensions = [\"eps\", \"pdf\", \"png\", \"ps\", \"raw\", \"svg\"];\n",
       "\n",
       "mpl.default_extension = \"png\";var comm_websocket_adapter = function(comm) {\n",
       "    // Create a \"websocket\"-like object which calls the given IPython comm\n",
       "    // object with the appropriate methods. Currently this is a non binary\n",
       "    // socket, so there is still some room for performance tuning.\n",
       "    var ws = {};\n",
       "\n",
       "    ws.close = function() {\n",
       "        comm.close()\n",
       "    };\n",
       "    ws.send = function(m) {\n",
       "        //console.log('sending', m);\n",
       "        comm.send(m);\n",
       "    };\n",
       "    // Register the callback with on_msg.\n",
       "    comm.on_msg(function(msg) {\n",
       "        //console.log('receiving', msg['content']['data'], msg);\n",
       "        // Pass the mpl event to the overridden (by mpl) onmessage function.\n",
       "        ws.onmessage(msg['content']['data'])\n",
       "    });\n",
       "    return ws;\n",
       "}\n",
       "\n",
       "mpl.mpl_figure_comm = function(comm, msg) {\n",
       "    // This is the function which gets called when the mpl process\n",
       "    // starts-up an IPython Comm through the \"matplotlib\" channel.\n",
       "\n",
       "    var id = msg.content.data.id;\n",
       "    // Get hold of the div created by the display call when the Comm\n",
       "    // socket was opened in Python.\n",
       "    var element = $(\"#\" + id);\n",
       "    var ws_proxy = comm_websocket_adapter(comm)\n",
       "\n",
       "    function ondownload(figure, format) {\n",
       "        window.open(figure.imageObj.src);\n",
       "    }\n",
       "\n",
       "    var fig = new mpl.figure(id, ws_proxy,\n",
       "                           ondownload,\n",
       "                           element.get(0));\n",
       "\n",
       "    // Call onopen now - mpl needs it, as it is assuming we've passed it a real\n",
       "    // web socket which is closed, not our websocket->open comm proxy.\n",
       "    ws_proxy.onopen();\n",
       "\n",
       "    fig.parent_element = element.get(0);\n",
       "    fig.cell_info = mpl.find_output_cell(\"<div id='\" + id + \"'></div>\");\n",
       "    if (!fig.cell_info) {\n",
       "        console.error(\"Failed to find cell for figure\", id, fig);\n",
       "        return;\n",
       "    }\n",
       "\n",
       "    var output_index = fig.cell_info[2]\n",
       "    var cell = fig.cell_info[0];\n",
       "\n",
       "};\n",
       "\n",
       "mpl.figure.prototype.handle_close = function(fig, msg) {\n",
       "    var width = fig.canvas.width/mpl.ratio\n",
       "    fig.root.unbind('remove')\n",
       "\n",
       "    // Update the output cell to use the data from the current canvas.\n",
       "    fig.push_to_output();\n",
       "    var dataURL = fig.canvas.toDataURL();\n",
       "    // Re-enable the keyboard manager in IPython - without this line, in FF,\n",
       "    // the notebook keyboard shortcuts fail.\n",
       "    IPython.keyboard_manager.enable()\n",
       "    $(fig.parent_element).html('<img src=\"' + dataURL + '\" width=\"' + width + '\">');\n",
       "    fig.close_ws(fig, msg);\n",
       "}\n",
       "\n",
       "mpl.figure.prototype.close_ws = function(fig, msg){\n",
       "    fig.send_message('closing', msg);\n",
       "    // fig.ws.close()\n",
       "}\n",
       "\n",
       "mpl.figure.prototype.push_to_output = function(remove_interactive) {\n",
       "    // Turn the data on the canvas into data in the output cell.\n",
       "    var width = this.canvas.width/mpl.ratio\n",
       "    var dataURL = this.canvas.toDataURL();\n",
       "    this.cell_info[1]['text/html'] = '<img src=\"' + dataURL + '\" width=\"' + width + '\">';\n",
       "}\n",
       "\n",
       "mpl.figure.prototype.updated_canvas_event = function() {\n",
       "    // Tell IPython that the notebook contents must change.\n",
       "    IPython.notebook.set_dirty(true);\n",
       "    this.send_message(\"ack\", {});\n",
       "    var fig = this;\n",
       "    // Wait a second, then push the new image to the DOM so\n",
       "    // that it is saved nicely (might be nice to debounce this).\n",
       "    setTimeout(function () { fig.push_to_output() }, 1000);\n",
       "}\n",
       "\n",
       "mpl.figure.prototype._init_toolbar = function() {\n",
       "    var fig = this;\n",
       "\n",
       "    var nav_element = $('<div/>')\n",
       "    nav_element.attr('style', 'width: 100%');\n",
       "    this.root.append(nav_element);\n",
       "\n",
       "    // Define a callback function for later on.\n",
       "    function toolbar_event(event) {\n",
       "        return fig.toolbar_button_onclick(event['data']);\n",
       "    }\n",
       "    function toolbar_mouse_event(event) {\n",
       "        return fig.toolbar_button_onmouseover(event['data']);\n",
       "    }\n",
       "\n",
       "    for(var toolbar_ind in mpl.toolbar_items){\n",
       "        var name = mpl.toolbar_items[toolbar_ind][0];\n",
       "        var tooltip = mpl.toolbar_items[toolbar_ind][1];\n",
       "        var image = mpl.toolbar_items[toolbar_ind][2];\n",
       "        var method_name = mpl.toolbar_items[toolbar_ind][3];\n",
       "\n",
       "        if (!name) { continue; };\n",
       "\n",
       "        var button = $('<button class=\"btn btn-default\" href=\"#\" title=\"' + name + '\"><i class=\"fa ' + image + ' fa-lg\"></i></button>');\n",
       "        button.click(method_name, toolbar_event);\n",
       "        button.mouseover(tooltip, toolbar_mouse_event);\n",
       "        nav_element.append(button);\n",
       "    }\n",
       "\n",
       "    // Add the status bar.\n",
       "    var status_bar = $('<span class=\"mpl-message\" style=\"text-align:right; float: right;\"/>');\n",
       "    nav_element.append(status_bar);\n",
       "    this.message = status_bar[0];\n",
       "\n",
       "    // Add the close button to the window.\n",
       "    var buttongrp = $('<div class=\"btn-group inline pull-right\"></div>');\n",
       "    var button = $('<button class=\"btn btn-mini btn-primary\" href=\"#\" title=\"Stop Interaction\"><i class=\"fa fa-power-off icon-remove icon-large\"></i></button>');\n",
       "    button.click(function (evt) { fig.handle_close(fig, {}); } );\n",
       "    button.mouseover('Stop Interaction', toolbar_mouse_event);\n",
       "    buttongrp.append(button);\n",
       "    var titlebar = this.root.find($('.ui-dialog-titlebar'));\n",
       "    titlebar.prepend(buttongrp);\n",
       "}\n",
       "\n",
       "mpl.figure.prototype._root_extra_style = function(el){\n",
       "    var fig = this\n",
       "    el.on(\"remove\", function(){\n",
       "\tfig.close_ws(fig, {});\n",
       "    });\n",
       "}\n",
       "\n",
       "mpl.figure.prototype._canvas_extra_style = function(el){\n",
       "    // this is important to make the div 'focusable\n",
       "    el.attr('tabindex', 0)\n",
       "    // reach out to IPython and tell the keyboard manager to turn it's self\n",
       "    // off when our div gets focus\n",
       "\n",
       "    // location in version 3\n",
       "    if (IPython.notebook.keyboard_manager) {\n",
       "        IPython.notebook.keyboard_manager.register_events(el);\n",
       "    }\n",
       "    else {\n",
       "        // location in version 2\n",
       "        IPython.keyboard_manager.register_events(el);\n",
       "    }\n",
       "\n",
       "}\n",
       "\n",
       "mpl.figure.prototype._key_event_extra = function(event, name) {\n",
       "    var manager = IPython.notebook.keyboard_manager;\n",
       "    if (!manager)\n",
       "        manager = IPython.keyboard_manager;\n",
       "\n",
       "    // Check for shift+enter\n",
       "    if (event.shiftKey && event.which == 13) {\n",
       "        this.canvas_div.blur();\n",
       "        event.shiftKey = false;\n",
       "        // Send a \"J\" for go to next cell\n",
       "        event.which = 74;\n",
       "        event.keyCode = 74;\n",
       "        manager.command_mode();\n",
       "        manager.handle_keydown(event);\n",
       "    }\n",
       "}\n",
       "\n",
       "mpl.figure.prototype.handle_save = function(fig, msg) {\n",
       "    fig.ondownload(fig, null);\n",
       "}\n",
       "\n",
       "\n",
       "mpl.find_output_cell = function(html_output) {\n",
       "    // Return the cell and output element which can be found *uniquely* in the notebook.\n",
       "    // Note - this is a bit hacky, but it is done because the \"notebook_saving.Notebook\"\n",
       "    // IPython event is triggered only after the cells have been serialised, which for\n",
       "    // our purposes (turning an active figure into a static one), is too late.\n",
       "    var cells = IPython.notebook.get_cells();\n",
       "    var ncells = cells.length;\n",
       "    for (var i=0; i<ncells; i++) {\n",
       "        var cell = cells[i];\n",
       "        if (cell.cell_type === 'code'){\n",
       "            for (var j=0; j<cell.output_area.outputs.length; j++) {\n",
       "                var data = cell.output_area.outputs[j];\n",
       "                if (data.data) {\n",
       "                    // IPython >= 3 moved mimebundle to data attribute of output\n",
       "                    data = data.data;\n",
       "                }\n",
       "                if (data['text/html'] == html_output) {\n",
       "                    return [cell, data, j];\n",
       "                }\n",
       "            }\n",
       "        }\n",
       "    }\n",
       "}\n",
       "\n",
       "// Register the function which deals with the matplotlib target/channel.\n",
       "// The kernel may be null if the page has been refreshed.\n",
       "if (IPython.notebook.kernel != null) {\n",
       "    IPython.notebook.kernel.comm_manager.register_target('matplotlib', mpl.mpl_figure_comm);\n",
       "}\n"
      ],
      "text/plain": [
       "<IPython.core.display.Javascript object>"
      ]
     },
     "metadata": {},
     "output_type": "display_data"
    },
    {
     "data": {
      "text/html": [
       "<img src=\"data:image/png;base64,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\" width=\"721.8181661731944\">"
      ],
      "text/plain": [
       "<IPython.core.display.HTML object>"
      ]
     },
     "metadata": {},
     "output_type": "display_data"
    },
    {
     "data": {
      "text/plain": [
       "[<matplotlib.lines.Line2D at 0x1140a9940>]"
      ]
     },
     "execution_count": 116,
     "metadata": {},
     "output_type": "execute_result"
    }
   ],
   "source": [
    "# Plot Results\n",
    "# plt.subplot(8, 1, 2:7);\n",
    "tt = np.array([i * delta for i in range(TOTAL_TIME)])\n",
    "plt.plot(tt, sim[:, 0])\n",
    "plt.ylabel('Voltage [mV]')\n",
    "plt.xlabel('Time [ms]')\n",
    "\n",
    "plt.plot([0, delta * TOTAL_TIME], [Vth, Vth], '--', color='gray')\n",
    "\n",
    "s1 = sim[:-1, 0] < Vth\n",
    "s2 = sim[1:, 0] >= Vth\n",
    "spikes = np.hstack((s1 & s2, False))\n",
    "plt.plot(tt[spikes], sim[spikes, 0], 'r*')\n"
   ]
  },
  {
   "cell_type": "code",
   "execution_count": null,
   "metadata": {},
   "outputs": [],
   "source": []
  }
 ],
 "metadata": {
  "kernelspec": {
   "display_name": "Python 3",
   "language": "python",
   "name": "python3"
  },
  "language_info": {
   "codemirror_mode": {
    "name": "ipython",
    "version": 3
   },
   "file_extension": ".py",
   "mimetype": "text/x-python",
   "name": "python",
   "nbconvert_exporter": "python",
   "pygments_lexer": "ipython3",
   "version": "3.6.4"
  },
  "nbpresent": {
   "slides": {
    "0ff99aa5-9389-46f7-873b-7bb90809929a": {
     "id": "0ff99aa5-9389-46f7-873b-7bb90809929a",
     "prev": "3a3bb44f-671e-4c71-b8dc-02a84ea3502d",
     "regions": {
      "21085583-23a2-43cb-a1a1-78a2b1a84203": {
       "attrs": {
        "height": 0.4,
        "width": 0.8,
        "x": 0.1,
        "y": 0.5
       },
       "content": {
        "cell": "9028ff46-1319-4ec7-98ab-57ee7f60e61c",
        "part": "whole"
       },
       "id": "21085583-23a2-43cb-a1a1-78a2b1a84203"
      },
      "312d08b3-91aa-4b97-8bf9-dad66a008cb3": {
       "attrs": {
        "height": 0.4,
        "width": 0.8,
        "x": 0.1,
        "y": 0.5
       },
       "content": {
        "cell": "52bbef7b-dde7-4322-9a9f-6272ca28c129",
        "part": "whole"
       },
       "id": "312d08b3-91aa-4b97-8bf9-dad66a008cb3"
      },
      "4672aeeb-88b7-4a5d-b506-bee21a80bcbd": {
       "attrs": {
        "height": 0.4,
        "width": 0.8,
        "x": 0.1,
        "y": 0.5
       },
       "content": {
        "cell": "c19114dc-a20e-457a-aa0f-1746507d923f",
        "part": "whole"
       },
       "id": "4672aeeb-88b7-4a5d-b506-bee21a80bcbd"
      },
      "4c28b70f-e600-493a-bdd3-c4a555bcfa01": {
       "attrs": {
        "height": 0.4,
        "width": 0.8,
        "x": 0.1,
        "y": 0.5
       },
       "content": {
        "cell": "af37e692-ed61-480e-ad06-c55815e3fbcb",
        "part": "whole"
       },
       "id": "4c28b70f-e600-493a-bdd3-c4a555bcfa01"
      },
      "562c743a-8614-4617-80c8-e2cd0ba07d32": {
       "attrs": {
        "height": 0.8,
        "width": 0.8,
        "x": 0.1,
        "y": 0.1
       },
       "content": {
        "cell": "e2ab2a29-0e3f-4b90-b98e-93e5b8b0b569",
        "part": "whole"
       },
       "id": "562c743a-8614-4617-80c8-e2cd0ba07d32"
      }
     }
    },
    "3a3bb44f-671e-4c71-b8dc-02a84ea3502d": {
     "id": "3a3bb44f-671e-4c71-b8dc-02a84ea3502d",
     "prev": "51588e04-6155-477e-92da-98ae40b50cd0",
     "regions": {
      "52b403a7-b180-4f4c-95b1-28ae085e61e3": {
       "attrs": {
        "height": 0.4,
        "width": 0.8,
        "x": 0.1,
        "y": 0.5
       },
       "content": null,
       "id": "52b403a7-b180-4f4c-95b1-28ae085e61e3"
      },
      "ad7a9ae7-e5f0-4059-b270-15f1f6ffa168": {
       "attrs": {
        "height": 0.8,
        "width": 0.8,
        "x": 0.1,
        "y": 0.1
       },
       "content": null,
       "id": "ad7a9ae7-e5f0-4059-b270-15f1f6ffa168"
      },
      "c81bcc24-944c-421a-b54c-60b37e9ed408": {
       "attrs": {
        "height": 0.4,
        "width": 0.8,
        "x": 0.1,
        "y": 0.5
       },
       "content": null,
       "id": "c81bcc24-944c-421a-b54c-60b37e9ed408"
      }
     }
    },
    "51588e04-6155-477e-92da-98ae40b50cd0": {
     "id": "51588e04-6155-477e-92da-98ae40b50cd0",
     "prev": "fe3dec08-667c-49eb-bd83-d0665daf27ec",
     "regions": {
      "44ac2350-dfda-44c1-814b-d982ccb6c195": {
       "attrs": {
        "height": 0.8,
        "width": 0.8,
        "x": 0.1,
        "y": 0.1
       },
       "content": {
        "cell": "1c6168fa-79fd-47d5-83ca-54f403325834",
        "part": "whole"
       },
       "id": "44ac2350-dfda-44c1-814b-d982ccb6c195"
      },
      "7f5d6f75-129b-4226-94cd-992b5f1ecdda": {
       "attrs": {
        "height": 0.4,
        "width": 0.8,
        "x": 0.1,
        "y": 0.5
       },
       "content": {
        "cell": "673a331d-e3dd-49e6-bb8d-884b70c759ad",
        "part": "whole"
       },
       "id": "7f5d6f75-129b-4226-94cd-992b5f1ecdda"
      },
      "b46c9bce-fa97-4334-b534-59451e847562": {
       "attrs": {
        "height": 0.4,
        "width": 0.8,
        "x": 0.1,
        "y": 0.5
       },
       "content": {
        "cell": "f7a9f97c-a704-428e-8bb9-beff9200da8e",
        "part": "whole"
       },
       "id": "b46c9bce-fa97-4334-b534-59451e847562"
      }
     }
    },
    "fe3dec08-667c-49eb-bd83-d0665daf27ec": {
     "id": "fe3dec08-667c-49eb-bd83-d0665daf27ec",
     "layout": "treemap",
     "prev": null,
     "regions": {
      "2e6c0aa0-8472-4b77-bcac-73793d208e70": {
       "attrs": {
        "height": 1,
        "pad": 0.01,
        "treemap:weight": 1,
        "width": 1,
        "x": 0,
        "y": 0
       },
       "content": {
        "cell": "c1448240-a0de-4088-bffc-9ec91da06726",
        "part": "whole"
       },
       "id": "2e6c0aa0-8472-4b77-bcac-73793d208e70"
      }
     }
    }
   },
   "themes": {
    "default": "db7b69f7-10d6-424d-a66b-57e2d6610701",
    "theme": {
     "db7b69f7-10d6-424d-a66b-57e2d6610701": {
      "id": "db7b69f7-10d6-424d-a66b-57e2d6610701",
      "palette": {
       "19cc588f-0593-49c9-9f4b-e4d7cc113b1c": {
        "id": "19cc588f-0593-49c9-9f4b-e4d7cc113b1c",
        "rgb": [
         252,
         252,
         252
        ]
       },
       "31af15d2-7e15-44c5-ab5e-e04b16a89eff": {
        "id": "31af15d2-7e15-44c5-ab5e-e04b16a89eff",
        "rgb": [
         68,
         68,
         68
        ]
       },
       "50f92c45-a630-455b-aec3-788680ec7410": {
        "id": "50f92c45-a630-455b-aec3-788680ec7410",
        "rgb": [
         155,
         177,
         192
        ]
       },
       "c5cc3653-2ee1-402a-aba2-7caae1da4f6c": {
        "id": "c5cc3653-2ee1-402a-aba2-7caae1da4f6c",
        "rgb": [
         43,
         126,
         184
        ]
       },
       "efa7f048-9acb-414c-8b04-a26811511a21": {
        "id": "efa7f048-9acb-414c-8b04-a26811511a21",
        "rgb": [
         25.118061674008803,
         73.60176211453744,
         107.4819383259912
        ]
       }
      },
      "rules": {
       "blockquote": {
        "color": "50f92c45-a630-455b-aec3-788680ec7410"
       },
       "code": {
        "font-family": "Anonymous Pro"
       },
       "h1": {
        "color": "c5cc3653-2ee1-402a-aba2-7caae1da4f6c",
        "font-family": "Lato",
        "font-size": 8
       },
       "h2": {
        "color": "c5cc3653-2ee1-402a-aba2-7caae1da4f6c",
        "font-family": "Lato",
        "font-size": 6
       },
       "h3": {
        "color": "50f92c45-a630-455b-aec3-788680ec7410",
        "font-family": "Lato",
        "font-size": 5.5
       },
       "h4": {
        "color": "c5cc3653-2ee1-402a-aba2-7caae1da4f6c",
        "font-family": "Lato",
        "font-size": 5
       },
       "h5": {
        "font-family": "Lato"
       },
       "h6": {
        "font-family": "Lato"
       },
       "h7": {
        "font-family": "Lato"
       },
       "pre": {
        "font-family": "Anonymous Pro",
        "font-size": 4
       }
      },
      "text-base": {
       "font-family": "Merriweather",
       "font-size": 4
      }
     },
     "fe69d426-1215-4400-b39e-2823b997b564": {
      "id": "fe69d426-1215-4400-b39e-2823b997b564",
      "palette": {
       "19cc588f-0593-49c9-9f4b-e4d7cc113b1c": {
        "id": "19cc588f-0593-49c9-9f4b-e4d7cc113b1c",
        "rgb": [
         252,
         252,
         252
        ]
       },
       "31af15d2-7e15-44c5-ab5e-e04b16a89eff": {
        "id": "31af15d2-7e15-44c5-ab5e-e04b16a89eff",
        "rgb": [
         68,
         68,
         68
        ]
       },
       "50f92c45-a630-455b-aec3-788680ec7410": {
        "id": "50f92c45-a630-455b-aec3-788680ec7410",
        "rgb": [
         155,
         177,
         192
        ]
       },
       "c5cc3653-2ee1-402a-aba2-7caae1da4f6c": {
        "id": "c5cc3653-2ee1-402a-aba2-7caae1da4f6c",
        "rgb": [
         43,
         126,
         184
        ]
       },
       "efa7f048-9acb-414c-8b04-a26811511a21": {
        "id": "efa7f048-9acb-414c-8b04-a26811511a21",
        "rgb": [
         25.118061674008803,
         73.60176211453744,
         107.4819383259912
        ]
       }
      },
      "rules": {
       "blockquote": {
        "color": "50f92c45-a630-455b-aec3-788680ec7410"
       },
       "code": {
        "font-family": "Anonymous Pro"
       },
       "h1": {
        "color": "c5cc3653-2ee1-402a-aba2-7caae1da4f6c",
        "font-family": "Lato",
        "font-size": 8
       },
       "h2": {
        "color": "c5cc3653-2ee1-402a-aba2-7caae1da4f6c",
        "font-family": "Lato",
        "font-size": 6
       },
       "h3": {
        "color": "50f92c45-a630-455b-aec3-788680ec7410",
        "font-family": "Lato",
        "font-size": 5.5
       },
       "h4": {
        "color": "c5cc3653-2ee1-402a-aba2-7caae1da4f6c",
        "font-family": "Lato",
        "font-size": 5
       },
       "h5": {
        "font-family": "Lato"
       },
       "h6": {
        "font-family": "Lato"
       },
       "h7": {
        "font-family": "Lato"
       },
       "pre": {
        "font-family": "Anonymous Pro",
        "font-size": 4
       }
      },
      "text-base": {
       "font-family": "Merriweather",
       "font-size": 4
      }
     }
    }
   }
  }
 },
 "nbformat": 4,
 "nbformat_minor": 2
}
